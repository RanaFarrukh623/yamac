{
  "cells": [
    {
      "cell_type": "code",
      "execution_count": null,
      "metadata": {
        "colab": {
          "base_uri": "https://localhost:8080/",
          "height": 106
        },
        "id": "ho-BP75ut6Sm",
        "outputId": "cbb45709-63e3-43d0-f8e3-804c4459da40"
      },
      "outputs": [
        {
          "ename": "SyntaxError",
          "evalue": "invalid syntax (<ipython-input-4-542f64be7ef7>, line 68)",
          "output_type": "error",
          "traceback": [
            "\u001b[0;36m  File \u001b[0;32m\"<ipython-input-4-542f64be7ef7>\"\u001b[0;36m, line \u001b[0;32m68\u001b[0m\n\u001b[0;31m    i['Available']==1:\u001b[0m\n\u001b[0m                     ^\u001b[0m\n\u001b[0;31mSyntaxError\u001b[0m\u001b[0;31m:\u001b[0m invalid syntax\n"
          ]
        }
      ],
      "source": [
        "books=[]\n",
        "def add_books():\n",
        "  Title=input(\"Enter title\")\n",
        "  Author=input(\"Enter Author\")\n",
        "  Bookdict={\"Title\":Title,\"Author\": Author,\"Available\":1}\n",
        "  books.append(Bookdict)\n",
        "  print(books)\n",
        "def Search_books():\n",
        "  Query=input(\"Enter the query\")\n",
        "  for i in books:\n",
        "   if Query in i['Title'] or Query in books['Author']:\n",
        "    print(books)\n",
        "def borrow_books():\n",
        "  Title=input(\"Title\")\n",
        "books=[]\n",
        "def add_books():\n",
        "  Title=input(\"Enter title\")\n",
        "  Author=input(\"Enter Author\")\n",
        "  Bookdict={\"Title\":Title,\"Author\": Author,\"Available\":1}\n",
        "  books.append(Bookdict)\n",
        "  print(books)\n",
        "def Search_books():\n",
        "  Query=input(\"Enter the query\")\n",
        "  for i in books:\n",
        "   if Query in i['Title'] or Query in i['Author']:\n",
        "    print(i)\n",
        "def borrow_books():\n",
        "  Title=input(\"Title\")\n",
        "  for i in books:\n",
        "     if i['Title']==Title and i['Available']==1:\n",
        "       i['Available']=0\n",
        "       print(\"Borrowed\")\n",
        "       return\n",
        "  print(\"Book not avialable\")\n",
        "def return_book():\n",
        "   Title=input(\"Title\")\n",
        "   for i in books:\n",
        "     if i['Title']==Title and i['Available']==0:\n",
        "       i['Available']=1\n",
        "       print(\"Returned\")\n",
        "       return\n",
        "   print(\"Sorry this book was  not borrowed  from our libraray\")\n",
        "def display_book():\n",
        "   print(\"Available books\")\n",
        "   for i in books:\n",
        "     if i['Available']==1:\n",
        "       print(i)\n",
        "Choice=5\n",
        "while Choice<=5:\n",
        "  if Choice == 1:\n",
        "        add_books()\n",
        "  elif Choice == 2:\n",
        "        Search_books()\n",
        "  elif Choice == 3:\n",
        "        borrow_books()\n",
        "  elif Choice == 4:\n",
        "       return_book()\n",
        "  elif Choice == 5:\n",
        "       display_book()\n",
        "  else:\n",
        "       print(\"Invalid choice.\")\n",
        "  Choice=int(input(\"Enter choice between \"))\n",
        "  print(\"Book not avialable\")\n",
        "def return_book():\n",
        "   Title=input(\"Title\")\n",
        "books=[]\n",
        "def add_books():\n",
        "  Title=input(\"Enter title\")\n",
        "  Author=input(\"Enter Author\")\n",
        "  Bookdict={\"Title\":Title,\"Author\": Author,\"Available\":1}\n",
        "  books.append(Bookdict)\n",
        "  print(books)\n",
        "def Search_books():\n",
        "  Query=input(\"Enter the query\")\n",
        "  for i in books:\n",
        "   if Query in i['Title'] or Query in i['Author']:\n",
        "    print(i)\n",
        "def borrow_books():\n",
        "  Title=input(\"Title\")\n",
        "  for i in books:\n",
        "     if i['Title']==Title and i['Available']==1:\n",
        "       i['Available']=0\n",
        "       print(\"Borrowed\")\n",
        "       return\n",
        "  print(\"Book not avialable\")\n",
        "def return_book():\n",
        "   Title=input(\"Title\")\n",
        "   for i in books:\n",
        "     if i['Title']==Title and i['Available']==0:\n",
        "       i['Available']=1\n",
        "       print(\"Returned\")\n",
        "       return\n",
        "   print(\"Sorry this book was  not borrowed  from our libraray\")\n",
        "def display_book():\n",
        "   print(\"Available books\")\n",
        "   for i in books:\n",
        "     if i['Available']==1:\n",
        "       print(i)\n",
        "Choice=5\n",
        "while Choice<=5:\n",
        "  if Choice == 1:\n",
        "        add_books()\n",
        "  elif Choice == 2:\n",
        "        Search_books()\n",
        "  elif Choice == 3:\n",
        "        borrow_books()\n",
        "  elif Choice == 4:\n",
        "       return_book()\n",
        "  elif Choice == 5:\n",
        "       display_book()\n",
        "  else:\n",
        "       print(\"Invalid choice.\")\n",
        "  Choice=int(input(\"Enter choice between \"))\n",
        "  print(\"Book not avialable\")\n",
        "def return_book():\n",
        "   Title=input(\"Title\")\n",
        "   for i in books:\n",
        "     if i['Title']==Title and i['Available']==0:\n",
        "       i['Available']=1\n",
        "       print(\"Returned\")\n",
        "       return\n",
        "   print(\"Sorry this book was  not borrowed  from our libraray\")\n",
        "def display_book():\n",
        "   print(\"Available books\")\n",
        "   for i in books:\n",
        "     if i['Available']==1:\n",
        "       print(i)\n",
        "Choice=5\n",
        "while Choice<=5:\n",
        "  if Choice == 1:\n",
        "        add_books()\n",
        "  elif Choice == 2:\n",
        "        Search_books()\n",
        "  elif Choice == 3:\n",
        "        borrow_books()\n",
        "  elif Choice == 4:\n",
        "       return_book()\n",
        "  elif Choice == 5:\n",
        "       display_book()\n",
        "  else:\n",
        "       print(\"Invalid choice.\")\n",
        "  Choice=int(input(\"Enter choice between\"))\n",
        "       print(\"Sorry this book was  not borrowed  from our libraray\")\n",
        "def display_book():\n",
        "   print(\"Available books\")\n",
        "   for i in books:\n",
        "     if i['Available']==1:\n",
        "       print(i)\n",
        "Choice=5\n",
        "while Choice<=5:\n",
        "  if Choice == 1:\n",
        "        add_books()\n",
        "  elif Choice == 2:\n",
        "        Search_books()\n",
        "  elif Choice == 3:\n",
        "        borrow_books()\n",
        "  elif Choice == 4:\n",
        "       return_book()\n",
        "  elif Choice == 5:\n",
        "       display_book()\n",
        "  else:\n",
        "       print(\"Invalid choice.\")\n",
        "  Choice=int(input(\"Enter choice between\"))"
      ]
    },
    {
      "cell_type": "code",
      "execution_count": null,
      "metadata": {
        "colab": {
          "base_uri": "https://localhost:8080/"
        },
        "id": "mrhentEigg6F",
        "outputId": "d8254bab-84ce-4b17-a143-5b318aeebbfb"
      },
      "outputs": [
        {
          "name": "stdout",
          "output_type": "stream",
          "text": [
            "\n",
            "Menu:\n",
            "1. Add Books\n",
            "2. Search Books\n",
            "3. Borrow Books\n",
            "4. Return Book\n",
            "5. Display Books\n",
            "Available books\n",
            "Enter choice between 1\n",
            "\n",
            "Menu:\n",
            "1. Add Books\n",
            "2. Search Books\n",
            "3. Borrow Books\n",
            "4. Return Book\n",
            "5. Display Books\n",
            "Enter titleRich dad\n",
            "Enter AuthorRobert\n",
            "[{'Title': 'Rich dad', 'Author': 'Robert', 'Available': 1}]\n",
            "Enter choice between 3\n",
            "\n",
            "Menu:\n",
            "1. Add Books\n",
            "2. Search Books\n",
            "3. Borrow Books\n",
            "4. Return Book\n",
            "5. Display Books\n",
            "TitleRich dad\n",
            "Borrowed\n",
            "Enter choice between 3\n",
            "\n",
            "Menu:\n",
            "1. Add Books\n",
            "2. Search Books\n",
            "3. Borrow Books\n",
            "4. Return Book\n",
            "5. Display Books\n",
            "TitleRich dad\n",
            "Book not avialable\n",
            "Enter choice between 4\n",
            "\n",
            "Menu:\n",
            "1. Add Books\n",
            "2. Search Books\n",
            "3. Borrow Books\n",
            "4. Return Book\n",
            "5. Display Books\n",
            "TitleRich dad\n",
            "Returned\n",
            "Enter choice between 5\n",
            "\n",
            "Menu:\n",
            "1. Add Books\n",
            "2. Search Books\n",
            "3. Borrow Books\n",
            "4. Return Book\n",
            "5. Display Books\n",
            "Available books\n",
            "{'Title': 'Rich dad', 'Author': 'Robert', 'Available': 1}\n",
            "Enter choice between 6\n"
          ]
        }
      ],
      "source": [
        "books=[]\n",
        "def add_books():\n",
        "  Title=input(\"Enter title\")\n",
        "  Author=input(\"Enter Author\")\n",
        "  Bookdict={\"Title\":Title,\"Author\": Author,\"Available\":1}\n",
        "  books.append(Bookdict)\n",
        "  print(books)\n",
        "def Search_books():\n",
        "  Query=input(\"Enter the query\")\n",
        "  for i in books:\n",
        "   if Query in i['Title'] or Query in books['Author']:\n",
        "    print(books)\n",
        "def borrow_books():\n",
        "  Title=input(\"Title\")\n",
        "books=[]\n",
        "def add_books():\n",
        "  Title=input(\"Enter title\")\n",
        "  Author=input(\"Enter Author\")\n",
        "  Bookdict={\"Title\":Title,\"Author\": Author,\"Available\":1}\n",
        "  books.append(Bookdict)\n",
        "  print(books)\n",
        "def Search_books():\n",
        "  Query=input(\"Enter the query\")\n",
        "  for i in books:\n",
        "   if Query in i['Title'] or Query in i['Author']:\n",
        "    print(i)\n",
        "def borrow_books():\n",
        "  Title=input(\"Title\")\n",
        "  for i in books:\n",
        "     if i['Title']==Title and i['Available']==1:\n",
        "       i['Available']=0\n",
        "       print(\"Borrowed\")\n",
        "       return\n",
        "  print(\"Book not avialable\")\n",
        "def return_book():\n",
        "   Title=input(\"Title\")\n",
        "   for i in books:\n",
        "     if i['Title']==Title and i['Available']==0:\n",
        "       i['Available']=1\n",
        "       print(\"Returned\")\n",
        "       return\n",
        "   print(\"Sorry this book was  not borrowed  from our libraray\")\n",
        "def display_book():\n",
        "   print(\"Available books\")\n",
        "   for i in books:\n",
        "     if i['Available']==1:\n",
        "       print(i)\n",
        "Choice=5\n",
        "while Choice<=5:\n",
        "  print(\"\\nMenu:\")\n",
        "  print(\"1. Add Books\")\n",
        "  print(\"2. Search Books\")\n",
        "  print(\"3. Borrow Books\")\n",
        "  print(\"4. Return Book\")\n",
        "  print(\"5. Display Books\")\n",
        "\n",
        "  if Choice == 1:\n",
        "        add_books()\n",
        "  elif Choice == 2:\n",
        "        Search_books()\n",
        "  elif Choice == 3:\n",
        "        borrow_books()\n",
        "  elif Choice == 4:\n",
        "       return_book()\n",
        "  elif Choice == 5:\n",
        "       display_book()\n",
        "  else:\n",
        "       print(\"Invalid choice.\")\n",
        "  Choice=int(input(\"Enter choice between \"))"
      ]
    },
    {
      "cell_type": "code",
      "execution_count": null,
      "metadata": {
        "colab": {
          "base_uri": "https://localhost:8080/"
        },
        "id": "jcACi_lQolZB",
        "outputId": "2c86bfc3-4251-4404-f9ac-e3e6ef57bde7"
      },
      "outputs": [
        {
          "name": "stdout",
          "output_type": "stream",
          "text": [
            "73.4\n"
          ]
        }
      ],
      "source": [
        "def celsius_to_farhanheit():\n",
        "    temprature_celcius=23\n",
        "    Farheneit(temprature_celcius)\n",
        "def Farheneit(num):\n",
        "    farheinet=num*9/5+32\n",
        "    print(farheinet)\n",
        "celsius_to_farhanheit()\n",
        "\n"
      ]
    },
    {
      "cell_type": "code",
      "execution_count": null,
      "metadata": {
        "colab": {
          "base_uri": "https://localhost:8080/"
        },
        "id": "X4CO7vVupXsa",
        "outputId": "146d93a1-6901-409e-9526-949b56b3c7b7"
      },
      "outputs": [
        {
          "name": "stdout",
          "output_type": "stream",
          "text": [
            "Welcome to Casio Calculator\n",
            "1.Addition\n",
            "2.Subtraction\n",
            "3.Multiplication\n",
            "4.Division\n",
            "1.3333333333333333\n",
            "Enter your choice1\n",
            "Welcome to Casio Calculator\n",
            "1.Addition\n",
            "2.Subtraction\n",
            "3.Multiplication\n",
            "4.Division\n",
            "14\n",
            "Enter your choice2\n",
            "Welcome to Casio Calculator\n",
            "1.Addition\n",
            "2.Subtraction\n",
            "3.Multiplication\n",
            "4.Division\n",
            "3\n",
            "Enter your choice3\n",
            "Welcome to Casio Calculator\n",
            "1.Addition\n",
            "2.Subtraction\n",
            "3.Multiplication\n",
            "4.Division\n",
            "45\n",
            "Enter your choice4\n",
            "Welcome to Casio Calculator\n",
            "1.Addition\n",
            "2.Subtraction\n",
            "3.Multiplication\n",
            "4.Division\n",
            "1.3333333333333333\n",
            "Enter your choice7\n"
          ]
        }
      ],
      "source": [
        "def addition(a=5,b=9):\n",
        "  return a+b\n",
        "def Subtraction(a=12,b=9):\n",
        "   return a-b\n",
        "def Multiplication(a=5,b=9):\n",
        "    return a*b\n",
        "def Division(a=12,b=9):\n",
        "    if b==0:\n",
        "        print(\"Cannot divide by zero\")\n",
        "        return None\n",
        "    return a/b\n",
        "choice=4\n",
        "while choice<=4:\n",
        " print(\"Welcome to Casio Calculator\")\n",
        " print(\"1.Addition\")\n",
        " print(\"2.Subtraction\")\n",
        " print(\"3.Multiplication\")\n",
        " print(\"4.Division\")\n",
        " if choice==1:\n",
        "    print(addition())\n",
        " elif choice==2:\n",
        "    print(Subtraction())\n",
        " elif choice==3:\n",
        "    print(Multiplication())\n",
        " elif choice==4:\n",
        "    print(Division())\n",
        " else:\n",
        "    print(\"Invalid choice\")\n",
        " choice=int(input(\"Enter your choice\"))"
      ]
    },
    {
      "cell_type": "code",
      "execution_count": null,
      "metadata": {
        "colab": {
          "base_uri": "https://localhost:8080/"
        },
        "id": "VokV-32DtPWG",
        "outputId": "a6b9bb8c-3136-482c-f866-b9c509fb75da"
      },
      "outputs": [
        {
          "name": "stdout",
          "output_type": "stream",
          "text": [
            "Welcome to Voting Machine\n",
            "1.Cast_vote\n",
            "2.Display_result\n",
            "3.Reset_votes\n",
            "4.Goodbye thankyou for using voting machine\n",
            "Votes are resetted\n",
            "Enter your choice1\n",
            "Welcome to Voting Machine\n",
            "1.Cast_vote\n",
            "2.Display_result\n",
            "3.Reset_votes\n",
            "4.Goodbye thankyou for using voting machine\n",
            "Enter CandidateA\n",
            "Enter your choice2\n",
            "Welcome to Voting Machine\n",
            "1.Cast_vote\n",
            "2.Display_result\n",
            "3.Reset_votes\n",
            "4.Goodbye thankyou for using voting machine\n",
            "Vote Count:\n",
            "Candidate A: 1\n",
            "Candidate B: 0\n",
            "Candidate C: 0\n",
            "Enter your choice9\n"
          ]
        }
      ],
      "source": [
        "VoteA=0\n",
        "VoteB=0\n",
        "VoteC=0\n",
        "def cast_vote(Candidate):\n",
        "  if Candidate==\"A\":\n",
        "    global VoteA\n",
        "    VoteA+=1\n",
        "  elif Candidate==\"B\":\n",
        "    global VoteB\n",
        "    VoteB+=1\n",
        "  elif Candidate==\"C\":\n",
        "    global VoteC\n",
        "    VoteC+=1\n",
        "  else:\n",
        "    print(\"Invalid Candidate\")\n",
        "def display_result():\n",
        "  print(\"Vote Count:\")\n",
        "  print(\"Candidate A:\",VoteA)\n",
        "  print(\"Candidate B:\",VoteB)\n",
        "  print(\"Candidate C:\",VoteC)\n",
        "def reset_votes():\n",
        "  global VoteA,VoteB,VoteC\n",
        "  VoteA=0\n",
        "  VoteB=0\n",
        "  VoteC=0\n",
        "  print(\"Votes are resetted\")\n",
        "choice=3\n",
        "while choice<=3:\n",
        " print(\"Welcome to Voting Machine\")\n",
        " print(\"1.Cast_vote\")\n",
        " print(\"2.Display_result\")\n",
        " print(\"3.Reset_votes\")\n",
        " print(\"4.Goodbye thankyou for using voting machine\")\n",
        " if choice==1:\n",
        "    Candidate=input(\"Enter Candidate\")\n",
        "    cast_vote(Candidate)\n",
        " elif choice==2:\n",
        "    display_result()\n",
        " elif choice==3:\n",
        "    reset_votes()\n",
        " else:\n",
        "    print(\"Invalid choice\")\n",
        " choice=int(input(\"Enter your choice\"))\n"
      ]
    },
    {
      "cell_type": "code",
      "execution_count": null,
      "metadata": {
        "colab": {
          "base_uri": "https://localhost:8080/"
        },
        "id": "zu5brcox9D1N",
        "outputId": "704fbd92-e1fb-4673-c951-5c9c6802cdd2"
      },
      "outputs": [
        {
          "name": "stdout",
          "output_type": "stream",
          "text": [
            "\n",
            " Welcome to the inventory  mangement sytstem:\n",
            "1. Add Items\n",
            "2. Remove Items\n",
            "3. Match Current Inventory level\n",
            "4. Goodbye thankyou fo using Inventory Management System\n",
            "Check Current inventory\n",
            "Enter choice between 1\n",
            "\n",
            " Welcome to the inventory  mangement sytstem:\n",
            "1. Add Items\n",
            "2. Remove Items\n",
            "3. Match Current Inventory level\n",
            "4. Goodbye thankyou fo using Inventory Management System\n",
            "Enter ItemRaw Material\n",
            "Enter Code92\n",
            "[{'Item': 'Raw Material', 'Code': '92', 'Avialable': 1}]\n",
            "Enter choice between 2\n",
            "\n",
            " Welcome to the inventory  mangement sytstem:\n",
            "1. Add Items\n",
            "2. Remove Items\n",
            "3. Match Current Inventory level\n",
            "4. Goodbye thankyou fo using Inventory Management System\n",
            "Enter the queryRaw Material\n",
            "Item removed\n",
            "Enter choice between 3\n",
            "\n",
            " Welcome to the inventory  mangement sytstem:\n",
            "1. Add Items\n",
            "2. Remove Items\n",
            "3. Match Current Inventory level\n",
            "4. Goodbye thankyou fo using Inventory Management System\n",
            "Check Current inventory\n",
            "{'Item': 'Raw Material', 'Code': '92', 'Avialable': 0}\n",
            "Enter choice between 4\n"
          ]
        }
      ],
      "source": [
        "add_item=[]\n",
        "def inventory_mangement():\n",
        "   Item=input(\"Enter Item\")\n",
        "   Code=input(\"Enter Code\")\n",
        "   dict={\"Item\":Item,\"Code\":Code,\"Avialable\":1}\n",
        "   add_item.append(dict)\n",
        "   print(add_item)\n",
        "def Remove_item():\n",
        "   Query=input(\"Enter the query\")\n",
        "   for i in add_item:\n",
        "    if i[\"Item\"]==Query or i[\"Avialable\"]==1:\n",
        "      i['Avialable']=0\n",
        "      print(\"Item removed\")\n",
        "      return\n",
        "   print(\"Item not found Invalid choice\")\n",
        "def Match_inventory():\n",
        "   print(\"Check Current inventory\")\n",
        "   for i in add_item:\n",
        "    if i['Avialable']==0:\n",
        "       print(i)\n",
        "Choice=3\n",
        "while Choice<=3:\n",
        "  print(\"\\n Welcome to the inventory  mangement sytstem:\")\n",
        "  print(\"1. Add Items\")\n",
        "  print(\"2. Remove Items\")\n",
        "  print(\"3. Match Current Inventory level\")\n",
        "  print(\"4. Goodbye thankyou fo using Inventory Management System\")\n",
        "\n",
        "\n",
        "  if Choice == 1:\n",
        "        inventory_mangement()\n",
        "  elif Choice == 2:\n",
        "        Remove_item()\n",
        "  elif Choice == 3:\n",
        "        Match_inventory()\n",
        "  else:\n",
        "       print(\"Invalid choice.\")\n",
        "  Choice=int(input(\"Enter choice between \"))\n",
        "\n",
        "\n"
      ]
    },
    {
      "cell_type": "code",
      "execution_count": null,
      "metadata": {
        "colab": {
          "base_uri": "https://localhost:8080/",
          "height": 1000
        },
        "id": "0mv4ctEdUmvG",
        "outputId": "236e7d74-4991-4b3c-8389-6c859856da38"
      },
      "outputs": [
        {
          "name": "stdout",
          "output_type": "stream",
          "text": [
            "\n",
            " Welcome to the Movie Rental sytstem:\n",
            "1. Add Movie\n",
            "2. Rent Movie\n",
            "3. Return Movie\n",
            "4. Matching Movies Available for rent\n",
            "Check Current Movies available to rent\n",
            "Enter choice between 1\n",
            "\n",
            " Welcome to the Movie Rental sytstem:\n",
            "1. Add Movie\n",
            "2. Rent Movie\n",
            "3. Return Movie\n",
            "4. Matching Movies Available for rent\n",
            "Enter MovieGoal dream\n",
            "Enter Release date2009\n",
            "Enter DirectorRobert\n",
            "Enter FormatDVD\n",
            "[{'Movie': 'Goal dream', 'Release Year': '2009', 'Director': 'Robert', 'Format': 'DVD', 'Avialable': 1}]\n",
            "Enter choice between 2\n",
            "\n",
            " Welcome to the Movie Rental sytstem:\n",
            "1. Add Movie\n",
            "2. Rent Movie\n",
            "3. Return Movie\n",
            "4. Matching Movies Available for rent\n",
            "Enter the queryGoal dream\n",
            "Movie Rented\n",
            "Enter choice between 2\n",
            "\n",
            " Welcome to the Movie Rental sytstem:\n",
            "1. Add Movie\n",
            "2. Rent Movie\n",
            "3. Return Movie\n",
            "4. Matching Movies Available for rent\n",
            "Enter the queryGoal dream\n",
            "Movie Rented\n",
            "Enter choice between 9\n",
            "\n",
            " Welcome to the Movie Rental sytstem:\n",
            "1. Add Movie\n",
            "2. Rent Movie\n",
            "3. Return Movie\n",
            "4. Matching Movies Available for rent\n",
            "Enter choice between 8\n",
            "\n",
            " Welcome to the Movie Rental sytstem:\n",
            "1. Add Movie\n",
            "2. Rent Movie\n",
            "3. Return Movie\n",
            "4. Matching Movies Available for rent\n",
            "Enter choice between snwksnws\n"
          ]
        },
        {
          "ename": "ValueError",
          "evalue": "invalid literal for int() with base 10: 'snwksnws'",
          "output_type": "error",
          "traceback": [
            "\u001b[0;31m---------------------------------------------------------------------------\u001b[0m",
            "\u001b[0;31mValueError\u001b[0m                                Traceback (most recent call last)",
            "\u001b[0;32m<ipython-input-4-87f9ed65c5ef>\u001b[0m in \u001b[0;36m<cell line: 32>\u001b[0;34m()\u001b[0m\n\u001b[1;32m     47\u001b[0m         \u001b[0mMovies_Available_to_rent\u001b[0m\u001b[0;34m(\u001b[0m\u001b[0;34m)\u001b[0m\u001b[0;34m\u001b[0m\u001b[0;34m\u001b[0m\u001b[0m\n\u001b[1;32m     48\u001b[0m \u001b[0;34m\u001b[0m\u001b[0m\n\u001b[0;32m---> 49\u001b[0;31m   \u001b[0mChoice\u001b[0m\u001b[0;34m=\u001b[0m\u001b[0mint\u001b[0m\u001b[0;34m(\u001b[0m\u001b[0minput\u001b[0m\u001b[0;34m(\u001b[0m\u001b[0;34m\"Enter choice between \"\u001b[0m\u001b[0;34m)\u001b[0m\u001b[0;34m)\u001b[0m\u001b[0;34m\u001b[0m\u001b[0;34m\u001b[0m\u001b[0m\n\u001b[0m\u001b[1;32m     50\u001b[0m \u001b[0;34m\u001b[0m\u001b[0m\n\u001b[1;32m     51\u001b[0m \u001b[0;34m\u001b[0m\u001b[0m\n",
            "\u001b[0;31mValueError\u001b[0m: invalid literal for int() with base 10: 'snwksnws'"
          ]
        }
      ],
      "source": [
        "\n",
        "add_movie=[]\n",
        "def movie_rental_system():\n",
        "   Movie=input(\"Enter Movie\")\n",
        "   Relese_year=input(\"Enter Release date\")\n",
        "   Dierector=input(\"Enter Director\")\n",
        "   Format=input(\"Enter Format\")\n",
        "   dict={\"Movie\":Movie,\"Release Year\":Relese_year,\"Director\":Dierector,\"Format\":Format,\"Avialable\":1}\n",
        "   add_movie.append(dict)\n",
        "   print(add_movie)\n",
        "def renting_movie():\n",
        "   Query=input(\"Enter the query\")\n",
        "   for i in add_movie:\n",
        "    if i[\"Movie\"]==Query and i[\"Avialable\"]==1:\n",
        "      i['Available']=0\n",
        "      print(\"Movie Rented\")\n",
        "      return\n",
        "    print(\"Movie not available\")\n",
        "def return_movie():\n",
        "   Query=input(\"Enter the query\")\n",
        "   for i in add_movie:\n",
        "    if i[\"Movie\"]==Query and i[\"Avialable\"]==0:\n",
        "      i['Avialable']=1\n",
        "      print(\"Movie Returned\")\n",
        "      return\n",
        "   print(\"Movies not from our cabinet\")\n",
        "def Movies_Available_to_rent():\n",
        "   print(\"Check Current Movies available to rent\")\n",
        "   for i in add_movie:\n",
        "    if i['Avialable']==1:\n",
        "       print(i)\n",
        "Choice=4\n",
        "while choice<=4:\n",
        "  print(\"\\n Welcome to the Movie Rental sytstem:\")\n",
        "  print(\"1. Add Movie\")\n",
        "  print(\"2. Rent Movie\")\n",
        "  print(\"3. Return Movie\")\n",
        "  print(\"4. Matching Movies Available for rent\")\n",
        "\n",
        "\n",
        "  if Choice == 1:\n",
        "        movie_rental_system()\n",
        "  elif Choice == 2:\n",
        "        renting_movie()\n",
        "  elif Choice == 3:\n",
        "        return_movie()\n",
        "  elif Choice == 4:\n",
        "        Movies_Available_to_rent()\n",
        "\n",
        "  Choice=int(input(\"Enter choice between \"))\n",
        "\n",
        "\n"
      ]
    },
    {
      "cell_type": "code",
      "execution_count": null,
      "metadata": {
        "colab": {
          "base_uri": "https://localhost:8080/"
        },
        "id": "dJgauyFFjauB",
        "outputId": "da3997d0-ff16-48b4-94d4-d91702602525"
      },
      "outputs": [
        {
          "name": "stdout",
          "output_type": "stream",
          "text": [
            "\n",
            "Welcome to the Movie Rental System:\n",
            "1. Add Movie\n",
            "2. Rent Movie\n",
            "3. Return Movie\n",
            "4. Matching Movies Available for Rent\n",
            "5. Exit\n",
            "Enter choice (1-5): 1\n",
            "Enter Movie: goal\n",
            "Enter Release Year: 2009\n",
            "Enter Director: robert\n",
            "Enter Format: DVD\n",
            "[{'Movie': 'goal', 'Release Year': '2009', 'Director': 'robert', 'Format': 'DVD', 'Available': 1}]\n",
            "\n",
            "Welcome to the Movie Rental System:\n",
            "1. Add Movie\n",
            "2. Rent Movie\n",
            "3. Return Movie\n",
            "4. Matching Movies Available for Rent\n",
            "5. Exit\n",
            "Enter choice (1-5): 2\n",
            "Enter the movie title to rent: goal\n",
            "Movie Rented\n",
            "\n",
            "Welcome to the Movie Rental System:\n",
            "1. Add Movie\n",
            "2. Rent Movie\n",
            "3. Return Movie\n",
            "4. Matching Movies Available for Rent\n",
            "5. Exit\n",
            "Enter choice (1-5): 2\n",
            "Enter the movie title to rent: goal\n",
            "Movie not available\n",
            "\n",
            "Welcome to the Movie Rental System:\n",
            "1. Add Movie\n",
            "2. Rent Movie\n",
            "3. Return Movie\n",
            "4. Matching Movies Available for Rent\n",
            "5. Exit\n",
            "Enter choice (1-5): 4\n",
            "Current Movies Available to Rent:\n",
            "No movies available.\n",
            "\n",
            "Welcome to the Movie Rental System:\n",
            "1. Add Movie\n",
            "2. Rent Movie\n",
            "3. Return Movie\n",
            "4. Matching Movies Available for Rent\n",
            "5. Exit\n",
            "Enter choice (1-5): 4\n",
            "Current Movies Available to Rent:\n",
            "No movies available.\n",
            "\n",
            "Welcome to the Movie Rental System:\n",
            "1. Add Movie\n",
            "2. Rent Movie\n",
            "3. Return Movie\n",
            "4. Matching Movies Available for Rent\n",
            "5. Exit\n",
            "Enter choice (1-5): 3\n",
            "Enter the movie title to return: goal\n",
            "Movie Returned\n",
            "\n",
            "Welcome to the Movie Rental System:\n",
            "1. Add Movie\n",
            "2. Rent Movie\n",
            "3. Return Movie\n",
            "4. Matching Movies Available for Rent\n",
            "5. Exit\n",
            "Enter choice (1-5): 4\n",
            "Current Movies Available to Rent:\n",
            "{'Movie': 'goal', 'Release Year': '2009', 'Director': 'robert', 'Format': 'DVD', 'Available': 1}\n",
            "\n",
            "Welcome to the Movie Rental System:\n",
            "1. Add Movie\n",
            "2. Rent Movie\n",
            "3. Return Movie\n",
            "4. Matching Movies Available for Rent\n",
            "5. Exit\n",
            "Enter choice (1-5): 4\n",
            "Current Movies Available to Rent:\n",
            "{'Movie': 'goal', 'Release Year': '2009', 'Director': 'robert', 'Format': 'DVD', 'Available': 1}\n",
            "\n",
            "Welcome to the Movie Rental System:\n",
            "1. Add Movie\n",
            "2. Rent Movie\n",
            "3. Return Movie\n",
            "4. Matching Movies Available for Rent\n",
            "5. Exit\n",
            "Enter choice (1-5): 6\n",
            "Invalid choice.\n",
            "\n",
            "Welcome to the Movie Rental System:\n",
            "1. Add Movie\n",
            "2. Rent Movie\n",
            "3. Return Movie\n",
            "4. Matching Movies Available for Rent\n",
            "5. Exit\n",
            "Enter choice (1-5): 5\n",
            "Exiting the program.\n"
          ]
        }
      ],
      "source": [
        "add_movie = []\n",
        "\n",
        "def movie_rental_system():\n",
        "    Movie = input(\"Enter Movie: \")\n",
        "    Release_year = input(\"Enter Release Year: \")\n",
        "    Director = input(\"Enter Director: \")\n",
        "    Format = input(\"Enter Format: \")\n",
        "    movie_dict = {\n",
        "        \"Movie\": Movie,\n",
        "        \"Release Year\": Release_year,\n",
        "        \"Director\": Director,\n",
        "        \"Format\": Format,\n",
        "        \"Available\": 1  # Corrected spelling\n",
        "    }\n",
        "    add_movie.append(movie_dict)\n",
        "    print(add_movie)\n",
        "\n",
        "def renting_movie():\n",
        "    Query = input(\"Enter the movie title to rent: \")\n",
        "    for i in add_movie:\n",
        "        if i[\"Movie\"] == Query and i[\"Available\"] == 1:  # Corrected spelling\n",
        "            i['Available'] = 0  # Corrected spelling\n",
        "            print(\"Movie Rented\")\n",
        "            return\n",
        "    print(\"Movie not available\")  # Moved outside the loop\n",
        "\n",
        "def return_movie():\n",
        "    Query = input(\"Enter the movie title to return: \")\n",
        "    for i in add_movie:\n",
        "        if i[\"Movie\"] == Query and i[\"Available\"] == 0:  # Corrected spelling\n",
        "            i['Available'] = 1  # Corrected spelling\n",
        "            print(\"Movie Returned\")\n",
        "            return\n",
        "    print(\"Movie not from our cabinet\")  # Corrected spelling\n",
        "\n",
        "def movies_available_to_rent():\n",
        "    print(\"Current Movies Available to Rent:\")\n",
        "    available_movies = False  # Flag to check if any movies are available\n",
        "    for i in add_movie:\n",
        "        if i['Available'] == 1:  # Corrected spelling\n",
        "            print(i)\n",
        "            available_movies = True  # Set flag to True if an available movie is found\n",
        "    if not available_movies:\n",
        "        print(\"No movies available.\")\n",
        "\n",
        "Choice = 0  # Initialize Choice to 0\n",
        "while True:  # Use an infinite loop and break when needed\n",
        "    print(\"\\nWelcome to the Movie Rental System:\")\n",
        "    print(\"1. Add Movie\")\n",
        "    print(\"2. Rent Movie\")\n",
        "    print(\"3. Return Movie\")\n",
        "    print(\"4. Matching Movies Available for Rent\")\n",
        "    print(\"5. Exit\")  # Added an option to exit\n",
        "\n",
        "    Choice = int(input(\"Enter choice (1-5): \"))  # Clear prompt\n",
        "\n",
        "    if Choice == 1:\n",
        "        movie_rental_system()\n",
        "    elif Choice == 2:\n",
        "        renting_movie()\n",
        "    elif Choice == 3:\n",
        "        return_movie()\n",
        "    elif Choice == 4:\n",
        "        movies_available_to_rent()\n",
        "    elif Choice == 5:\n",
        "        print(\"Exiting the program.\")\n",
        "        break  # Exit the loop\n",
        "    else:\n",
        "        print(\"Invalid choice.\")"
      ]
    },
    {
      "cell_type": "code",
      "execution_count": null,
      "metadata": {
        "id": "5eSaCs1Eh926"
      },
      "outputs": [],
      "source": [
        "add_movie = []\n",
        "\n",
        "def movie_rental_system():\n",
        "    \"\"\"Adds a new movie to the rental system.\"\"\"\n",
        "    movie = input(\"Enter Movie: \")\n",
        "    release_year = input(\"Enter Release date: \")\n",
        "    director = input(\"Enter Director: \")\n",
        "    format = input(\"Enter Format: \")\n",
        "    movie_dict = {\"Movie\": movie, \"Release Year\": release_year, \"Director\": director, \"Format\": format, \"Available\": 1}\n",
        "    add_movie.append(movie_dict)\n",
        "    print(\"Movie added successfully.\")\n",
        "\n",
        "def renting_movie():\n",
        "    \"\"\"Rents a movie if available.\"\"\"\n",
        "    query = input(\"Enter the movie title: \")\n",
        "    for movie in add_movie:\n",
        "        if movie['Movie'] == query and movie['Available'] == 1:\n",
        "            movie['Available'] = 0\n",
        "            print(\"Movie rented successfully.\")\n",
        "            return\n",
        "    print(\"Movie not available.\")\n",
        "\n",
        "def return_movie():\n",
        "    \"\"\"Returns a rented movie.\"\"\"\n",
        "    query = input(\"Enter the movie title: \")\n",
        "    for movie in add_movie:\n",
        "        if movie['Movie'] == query and movie['Available'] == 0:\n",
        "            movie['Available'] = 1\n",
        "            print(\"Movie returned successfully.\")\n",
        "            return\n",
        "    print(\"Movie not found or was not rented.\")\n",
        "\n",
        "def movies_available_to_rent():\n",
        "    \"\"\"Displays available movies.\"\"\"\n",
        "    print(\"Available movies:\")\n",
        "    for movie in add_movie:\n",
        "        if movie['Available'] == 1:\n",
        "            print(movie)\n",
        "    \"\"\"Main function to handle the movie rental menu.\"\"\"\n",
        "    choice = 0\n",
        "    while choice <= 4:\n",
        "        print(\"\\nWelcome to the Movie Rental System:\")\n",
        "        print(\"1. Add Movie\")\n",
        "        print(\"2. Rent Movie\")\n",
        "        print(\"3. Return Movie\")\n",
        "        print(\"4. Matching Movies Available for rent\")\n",
        "\n",
        "        choice = int(input(\"Enter your choice: \"))\n",
        "\n",
        "        if choice == 1:\n",
        "            movie_rental_system()\n",
        "        elif choice == 2:\n",
        "            renting_movie()\n",
        "        elif choice == 3:\n",
        "            return_movie()\n",
        "        elif choice == 4:\n",
        "            movies_available_to_rent()\n",
        "        else:\n",
        "            print(\"Invalid choice.\")\n"
      ]
    },
    {
      "cell_type": "code",
      "execution_count": null,
      "metadata": {
        "colab": {
          "base_uri": "https://localhost:8080/"
        },
        "id": "WFzIzNqmnBpu",
        "outputId": "74d1d3bd-0e9b-4ceb-ec9b-600241f5a9c5"
      },
      "outputs": [
        {
          "name": "stdout",
          "output_type": "stream",
          "text": [
            "Enter your choice1\n",
            "\n",
            "Menu:\n",
            "1. Add Grades\n",
            "2. Average Grades\n",
            "3. Display Grades\n",
            "4. Goodbye thankyou for using Grades Management System\n",
            "Enter the student nameAli\n",
            "Enter the student nameAhmad\n",
            "Enter the student nameAhad\n",
            "Enter the gradeA\n",
            "Enter the gradeB\n",
            "Enter the gradeF\n",
            "Enter the Marks98\n",
            "Enter the Marks79\n",
            "Enter the Marks67\n",
            "[{'Student A': 'Ali', 'GradeA': 'A', 'Marks A': 98, 'Student B': 'Ahmad', 'GradeB': 'B', 'Marks B': 79, 'Student C': 'Ahad', 'GradeC': 'F', 'Marks C': 67}]\n",
            "Enter your choice2\n",
            "\n",
            "Menu:\n",
            "1. Add Grades\n",
            "2. Average Grades\n",
            "3. Display Grades\n",
            "4. Goodbye thankyou for using Grades Management System\n",
            "81.33333333333333\n",
            "Enter your choice3\n",
            "\n",
            "Menu:\n",
            "1. Add Grades\n",
            "2. Average Grades\n",
            "3. Display Grades\n",
            "4. Goodbye thankyou for using Grades Management System\n",
            "Ali - Grade A: Passed The Exam\n",
            "Ahmad - Grade B: Passed The Exam\n",
            "Ahad - Grade F: Failed The Exam\n",
            "invalid input\n",
            "Enter your choice6\n"
          ]
        }
      ],
      "source": [
        "grades=[]\n",
        "def grades_input():\n",
        "  studentA=input(\"Enter the student name\")\n",
        "  studentB=input(\"Enter the student name\")\n",
        "  studentC=input(\"Enter the student name\")\n",
        "  gradeA=input(\"Enter the grade\")\n",
        "  gradeB=input(\"Enter the grade\")\n",
        "  gradeC=input(\"Enter the grade\")\n",
        "  MarksA=int(input(\"Enter the Marks\"))\n",
        "  MarksB=int(input(\"Enter the Marks\"))\n",
        "  MarksC=int(input(\"Enter the Marks\"))\n",
        "  dict={\"Student A\":studentA,\"GradeA\":gradeA,\"Marks A\":MarksA,\"Student B\":studentB,\"GradeB\":gradeB,\"Marks B\":MarksB,\"Student C\":studentC,\"GradeC\":gradeC,\"Marks C\":MarksC}\n",
        "  grades.append(dict)\n",
        "  print(grades)\n",
        "def average_grades():\n",
        "  for i in grades:\n",
        "    average=(i[\"Marks A\"]+i[\"Marks B\"]+i[\"Marks C\"])/3\n",
        "    print(average)\n",
        "def display_grades():\n",
        "  for i in grades:\n",
        "   for i in grades:\n",
        "        # Display for Student A\n",
        "        if i[\"Marks A\"] > 90:\n",
        "            print(f\"{i['Student A']} - Grade A: Passed The Exam\")\n",
        "        elif i[\"Marks A\"] > 75:\n",
        "            print(f\"{i['Student A']} - Grade B: Passed The Exam\")\n",
        "        elif i[\"Marks A\"] > 60:\n",
        "            print(f\"{i['Student A']} - Grade F: Failed The Exam\")\n",
        "\n",
        "        # Display for Student B\n",
        "        if i[\"Marks B\"] > 90:\n",
        "            print(f\"{i['Student B']} - Grade A: Passed The Exam\")\n",
        "        elif i[\"Marks B\"] > 75:\n",
        "            print(f\"{i['Student B']} - Grade B: Passed The Exam\")\n",
        "        elif i[\"Marks B\"] > 60:\n",
        "            print(f\"{i['Student B']} - Grade F: Failed The Exam\")\n",
        "\n",
        "        # Display for Student C\n",
        "        if i[\"Marks C\"] > 90:\n",
        "            print(f\"{i['Student C']} - Grade A: Passed The Exam\")\n",
        "        elif i[\"Marks C\"] > 75:\n",
        "            print(f\"{i['Student C']} - Grade B: Passed The Exam\")\n",
        "        elif i[\"Marks C\"] > 60:\n",
        "            print(f\"{i['Student C']} - Grade F: Failed The Exam\")\n",
        "\n",
        "   else:\n",
        "     print('invalid input')\n",
        "choice=int(input(\"Enter your choice\"))\n",
        "while choice<=3:\n",
        "  print(\"\\nMenu:\")\n",
        "  print(\"1. Add Grades\")\n",
        "  print(\"2. Average Grades\")\n",
        "  print(\"3. Display Grades\")\n",
        "  print(\"4. Goodbye thankyou for using Grades Management System\")\n",
        "  if choice == 1:\n",
        "        grades_input()\n",
        "  elif choice == 2:\n",
        "        average_grades()\n",
        "  elif choice == 3:\n",
        "        display_grades()\n",
        "  elif choice== 4 :\n",
        "        print('Good bye')\n",
        "        break\n",
        "  else:\n",
        "       print(\"Invalid choice.\")\n",
        "  choice=int(input(\"Enter your choice\"))\n",
        "\n"
      ]
    },
    {
      "cell_type": "code",
      "execution_count": null,
      "metadata": {
        "colab": {
          "base_uri": "https://localhost:8080/"
        },
        "id": "G2vh2107XJ1c",
        "outputId": "699a86cf-2cfc-4262-eb70-d60560712bbf"
      },
      "outputs": [
        {
          "name": "stdout",
          "output_type": "stream",
          "text": [
            "Enter your choice1\n",
            "\n",
            "Finance Tracker Menu:\n",
            "1. Add Income\n",
            "2. Add Expense\n",
            "3. Current Balance\n",
            "4. Exit\n",
            "Enter income source: GFX\n",
            "Enter income amount: 190000\n",
            "[{'Source': 'GFX', 'Amount': 190000.0}]\n",
            "Income added successfully.\n",
            "Enter your choice: 2\n",
            "\n",
            "Finance Tracker Menu:\n",
            "1. Add Income\n",
            "2. Add Expense\n",
            "3. Current Balance\n",
            "4. Exit\n",
            "Enter expense category: Fuel\n",
            "Enter expense amount: 34000\n",
            "[{'Category': 'Fuel', 'Amount': 34000.0}]\n",
            "Expense added successfully.\n",
            "Enter your choice: 3\n",
            "\n",
            "Finance Tracker Menu:\n",
            "1. Add Income\n",
            "2. Add Expense\n",
            "3. Current Balance\n",
            "4. Exit\n",
            "Current Balance: 156000.0\n",
            "Enter your choice: 4\n",
            "\n",
            "Finance Tracker Menu:\n",
            "1. Add Income\n",
            "2. Add Expense\n",
            "3. Current Balance\n",
            "4. Exit\n",
            "Exiting the Finance Tracker. Goodbye!\n",
            "Enter your choice: 5\n"
          ]
        }
      ],
      "source": [
        "###### Finance Tracker\n",
        "income_data=[]\n",
        "Expense_data=[]\n",
        "def add_income():\n",
        "    income_source = input(\"Enter income source: \")\n",
        "    amount = float(input(\"Enter income amount: \"))\n",
        "    income_dict = {\"Source\": income_source, \"Amount\": amount}\n",
        "    income_data.append(income_dict)\n",
        "    print(income_data)\n",
        "    print(\"Income added successfully.\")\n",
        "def add_expense():\n",
        "    expense_category = input(\"Enter expense category: \")\n",
        "    amount = float(input(\"Enter expense amount: \"))\n",
        "    expense_dict = {\"Category\": expense_category, \"Amount\": amount}\n",
        "    Expense_data.append(expense_dict)\n",
        "    print(Expense_data)\n",
        "    print(\"Expense added successfully.\")\n",
        "def current_balance():\n",
        "    for i in income_data:\n",
        "       total_income=i[\"Amount\"]\n",
        "    for i in Expense_data:\n",
        "      total_expense=i[\"Amount\"]\n",
        "    current_balance = total_income - total_expense\n",
        "    print(\"Current Balance:\", current_balance)\n",
        "choice=int(input(\"Enter your choice\"))\n",
        "while choice<5:\n",
        "    print(\"\\nFinance Tracker Menu:\")\n",
        "    print(\"1. Add Income\")\n",
        "    print(\"2. Add Expense\")\n",
        "    print(\"3. Current Balance\")\n",
        "    print(\"4. Exit\")\n",
        "\n",
        "    if choice == 1:\n",
        "        add_income()\n",
        "    elif choice == 2:\n",
        "        add_expense()\n",
        "    elif choice == 3:\n",
        "        current_balance()\n",
        "    elif choice == 4:\n",
        "        print(\"Exiting the Finance Tracker. Goodbye!\")\n",
        "    else:\n",
        "        print(\"Invalid choice. Please select a valid option.\")\n",
        "    choice = int(input(\"Enter your choice: \"))\n",
        "\n",
        "\n",
        "\n"
      ]
    },
    {
      "cell_type": "code",
      "execution_count": null,
      "metadata": {
        "colab": {
          "base_uri": "https://localhost:8080/"
        },
        "id": "Yb5UxhuJY8hu",
        "outputId": "69dc007c-610a-4bd8-9752-cb3bfb23eef5"
      },
      "outputs": [
        {
          "name": "stdout",
          "output_type": "stream",
          "text": [
            "45\n"
          ]
        }
      ],
      "source": [
        "### calculating the area of the triangle\n",
        "def area(width=4 ,length=11):\n",
        "  Area=width*length\n",
        "  print(Area)\n",
        "area(5,9)"
      ]
    },
    {
      "cell_type": "code",
      "execution_count": null,
      "metadata": {
        "colab": {
          "base_uri": "https://localhost:8080/"
        },
        "id": "g0oHvUejIZ-E",
        "outputId": "c93c92c0-ca54-4f31-b8f3-9deb0a9fd342"
      },
      "outputs": [
        {
          "name": "stdout",
          "output_type": "stream",
          "text": [
            "Hello Alice\n",
            "Hello guest\n"
          ]
        }
      ],
      "source": [
        "####default argument\n",
        "def greet(name=\"guest\"):\n",
        "  print(\"Hello\",name)\n",
        "greet(\"Alice\")\n",
        "greet()\n"
      ]
    },
    {
      "cell_type": "code",
      "execution_count": null,
      "metadata": {
        "colab": {
          "base_uri": "https://localhost:8080/"
        },
        "id": "tocyjtoJR8EE",
        "outputId": "8d799d48-acff-40c8-8c12-f9d530d7ff24"
      },
      "outputs": [
        {
          "name": "stdout",
          "output_type": "stream",
          "text": [
            "20\n",
            "Enter the number5\n",
            "20\n",
            "Enter the number5\n",
            "20\n",
            "Enter the number8\n",
            "56\n",
            "Enter the number-1\n"
          ]
        }
      ],
      "source": [
        "####factorial calculation\n",
        "def factorial(n):\n",
        "  if n<0:\n",
        "    print(\"Enter a non negative number\")\n",
        "  while n>0:\n",
        "    factorial=n*(n-1)\n",
        "    print(factorial)\n",
        "    n=int(input('Enter the number'))\n",
        "factorial(5)\n",
        "\n"
      ]
    },
    {
      "cell_type": "code",
      "execution_count": null,
      "metadata": {
        "colab": {
          "base_uri": "https://localhost:8080/"
        },
        "id": "k768R0g3ZjbZ",
        "outputId": "dae9d564-dbb2-485f-c30a-fc5c9e47baa6"
      },
      "outputs": [
        {
          "name": "stdout",
          "output_type": "stream",
          "text": [
            "17\n",
            "1\n",
            "72\n",
            "1.125\n"
          ]
        }
      ],
      "source": [
        "###Simple Calculator\n",
        "def calculator(a,b,Operator):\n",
        "  if Operator=='Add':\n",
        "    print(a+b)\n",
        "  elif Operator=='Subtract':\n",
        "    print(a-b)\n",
        "  elif Operator=='Multiply':\n",
        "    print(a*b)\n",
        "  elif Operator=='Divide':\n",
        "    print(a/b)\n",
        "calculator(9,8,\"Add\")\n",
        "calculator(9,8,\"Subtract\")\n",
        "calculator(9,8,\"Multiply\")\n",
        "calculator(9,8,\"Divide\")\n"
      ]
    },
    {
      "cell_type": "code",
      "execution_count": null,
      "metadata": {
        "colab": {
          "base_uri": "https://localhost:8080/"
        },
        "id": "n-CjkNqAigXV",
        "outputId": "9e861427-4228-4c5d-958c-4b0128cf81bd"
      },
      "outputs": [
        {
          "name": "stdout",
          "output_type": "stream",
          "text": [
            "Enter a number (or any non-numeric value to quit): 9\n",
            "Enter a number (or any non-numeric value to quit): 9\n",
            "Enter a number (or any non-numeric value to quit): 9\n",
            "Enter a number (or any non-numeric value to quit): i\n",
            "The sum of the numbers is: 27.0\n"
          ]
        }
      ],
      "source": [
        "def calculate_sum():\n",
        "  \"\"\"Calculates the sum of numbers entered by the user.\"\"\"\n",
        "  total_sum = 0\n",
        "  while True:\n",
        "    number_str = input(\"Enter a number (or any non-numeric value to quit): \")\n",
        "    if number_str.isdigit():  # Check if input is numeric\n",
        "      number = float(number_str)\n",
        "      total_sum += number\n",
        "    else:\n",
        "      break  # Exit loop if input is not numeric\n",
        "  print(\"The sum of the numbers is:\", total_sum)\n",
        "\n",
        "calculate_sum()"
      ]
    },
    {
      "cell_type": "code",
      "execution_count": null,
      "metadata": {
        "colab": {
          "base_uri": "https://localhost:8080/"
        },
        "id": "WnPYI_L3kHK-",
        "outputId": "5b022ccf-db2e-4015-a451-0afdb2bd7be1"
      },
      "outputs": [
        {
          "name": "stdout",
          "output_type": "stream",
          "text": [
            "15\n"
          ]
        }
      ],
      "source": [
        "###Create sum using arg\n",
        "def calculate_sum(*args):\n",
        "  Total=0\n",
        "  for i in args:\n",
        "    Total+=i\n",
        "  print(Total)\n",
        "calculate_sum(1,2,3,4,5)"
      ]
    },
    {
      "cell_type": "code",
      "execution_count": null,
      "metadata": {
        "colab": {
          "base_uri": "https://localhost:8080/"
        },
        "id": "pGtZ7BWakb8F",
        "outputId": "c752c816-7ae8-469c-cb29-f2ec7227addf"
      },
      "outputs": [
        {
          "name": "stdout",
          "output_type": "stream",
          "text": [
            "Enter a non numeric number8\n",
            "Enter a non numeric number9\n",
            "Enter a non numeric number10\n",
            "Enter a non numeric number11\n",
            "Enter a non numeric numberi\n",
            "The sum of the numbers is: 38.0\n"
          ]
        }
      ],
      "source": [
        "###### Handling non  numeric numeric number and doing sum\n",
        "def calculate_sum():\n",
        "  total_sum =0\n",
        "  while True:\n",
        "    try:\n",
        "      number=input(\"Enter a non numeric number\")\n",
        "      number=float(number)\n",
        "      total_sum+=number\n",
        "    except ValueError:\n",
        "      break\n",
        "  print(\"The sum of the numbers is:\", total_sum)\n",
        "calculate_sum()\n",
        "\n",
        "\n",
        "\n",
        "\n"
      ]
    },
    {
      "cell_type": "code",
      "execution_count": null,
      "metadata": {
        "colab": {
          "base_uri": "https://localhost:8080/",
          "height": 35
        },
        "id": "Yp7moZW36cCR",
        "outputId": "4bd6c42e-140a-4723-9a40-4ca513df00a6"
      },
      "outputs": [
        {
          "data": {
            "application/vnd.google.colaboratory.intrinsic+json": {
              "type": "string"
            },
            "text/plain": [
              "'Apple'"
            ]
          },
          "execution_count": 1,
          "metadata": {},
          "output_type": "execute_result"
        }
      ],
      "source": [
        "##### List,Tuple,Sets,Dictionaries Practice,Questions\n",
        "list=[\"Apple\",\"Banana\",\"Cherry\"]\n",
        "list[0]"
      ]
    },
    {
      "cell_type": "code",
      "execution_count": null,
      "metadata": {
        "colab": {
          "base_uri": "https://localhost:8080/",
          "height": 35
        },
        "id": "nn7jTtK__b_J",
        "outputId": "c940019f-b8e6-4144-b413-cae1e5d82976"
      },
      "outputs": [
        {
          "data": {
            "application/vnd.google.colaboratory.intrinsic+json": {
              "type": "string"
            },
            "text/plain": [
              "'Cherry'"
            ]
          },
          "execution_count": 2,
          "metadata": {},
          "output_type": "execute_result"
        }
      ],
      "source": [
        "list[-1]"
      ]
    },
    {
      "cell_type": "code",
      "execution_count": null,
      "metadata": {
        "colab": {
          "base_uri": "https://localhost:8080/"
        },
        "id": "C2UmOIhC_tuJ",
        "outputId": "8a2b36e1-7b02-4d39-99a6-b6c0524c527c"
      },
      "outputs": [
        {
          "data": {
            "text/plain": [
              "[1, 2, 3, 4, 5, 6]"
            ]
          },
          "execution_count": 3,
          "metadata": {},
          "output_type": "execute_result"
        }
      ],
      "source": [
        "listn_num=[1,2,3,4,5]\n",
        "listn_num.append(6)\n",
        "listn_num"
      ]
    },
    {
      "cell_type": "code",
      "execution_count": null,
      "metadata": {
        "colab": {
          "base_uri": "https://localhost:8080/"
        },
        "id": "DX8-9B2nD-mw",
        "outputId": "8f6801da-7c4b-40e1-d9f9-73a8fa9ad235"
      },
      "outputs": [
        {
          "data": {
            "text/plain": [
              "[2, 3, 4, 5, 6]"
            ]
          },
          "execution_count": 4,
          "metadata": {},
          "output_type": "execute_result"
        }
      ],
      "source": [
        "listn_num.remove(1)\n",
        "listn_num"
      ]
    },
    {
      "cell_type": "code",
      "execution_count": null,
      "metadata": {
        "colab": {
          "base_uri": "https://localhost:8080/"
        },
        "id": "E6iQIhLsD8vW",
        "outputId": "af355e47-a944-4121-bedc-5f3183904904"
      },
      "outputs": [
        {
          "data": {
            "text/plain": [
              "[1, 2, 3, 4, 5]"
            ]
          },
          "execution_count": 16,
          "metadata": {},
          "output_type": "execute_result"
        }
      ],
      "source": [
        "#### List Slicing\n",
        "### Fist 5 elements\n",
        "#### Then last 5 elements\n",
        "list=[1,2,3,4,5,6,7,8,9,10]\n",
        "list[0:5]\n"
      ]
    },
    {
      "cell_type": "code",
      "execution_count": null,
      "metadata": {
        "colab": {
          "base_uri": "https://localhost:8080/"
        },
        "id": "lNI4LGMVGIo5",
        "outputId": "92257631-7d9a-4227-f73b-dde2184510cc"
      },
      "outputs": [
        {
          "data": {
            "text/plain": [
              "[6, 7, 8, 9, 10]"
            ]
          },
          "execution_count": 17,
          "metadata": {},
          "output_type": "execute_result"
        }
      ],
      "source": [
        "list=[1,2,3,4,5,6,7,8,9,10]\n",
        "list[5:10]"
      ]
    },
    {
      "cell_type": "code",
      "execution_count": null,
      "metadata": {
        "colab": {
          "base_uri": "https://localhost:8080/"
        },
        "id": "O2w7suXYKrkc",
        "outputId": "2e385592-6ae3-4adc-8302-93efb859a840"
      },
      "outputs": [
        {
          "data": {
            "text/plain": [
              "{'Aslam': 23, 'Asia': 35, 'Ali': 19}"
            ]
          },
          "execution_count": 18,
          "metadata": {},
          "output_type": "execute_result"
        }
      ],
      "source": [
        "Dictionary={\"Aslam\":23,\"Asia\":35,\"Ali\":19}\n",
        "Dictionary"
      ]
    },
    {
      "cell_type": "code",
      "execution_count": null,
      "metadata": {
        "colab": {
          "base_uri": "https://localhost:8080/"
        },
        "id": "UuXwkjmKLsyh",
        "outputId": "871e8ebb-b19b-476b-b3d5-0ee2a84618a7"
      },
      "outputs": [
        {
          "data": {
            "text/plain": [
              "23"
            ]
          },
          "execution_count": 20,
          "metadata": {},
          "output_type": "execute_result"
        }
      ],
      "source": [
        "Dictionary['Aslam']"
      ]
    },
    {
      "cell_type": "code",
      "execution_count": null,
      "metadata": {
        "colab": {
          "base_uri": "https://localhost:8080/"
        },
        "id": "rw1XniTUQYaV",
        "outputId": "aabc4be3-eef0-450c-b74e-fb4e98e63af3"
      },
      "outputs": [
        {
          "name": "stdout",
          "output_type": "stream",
          "text": [
            "Enter a number: 9\n",
            "Enter a number: 10\n",
            "Enter a number: 12\n",
            "Enter a number: 19\n",
            "Enter a number: 67\n",
            "Enter a number: gjgjgjgj\n",
            "The sum of the numbers are:  117\n"
          ]
        }
      ],
      "source": [
        "numbers = []\n",
        "\n",
        "while True:\n",
        "    user_input = input(\"Enter a number: \")\n",
        "    if user_input.isdigit():\n",
        "        numbers.append(int(user_input))\n",
        "    else:\n",
        "        break\n",
        "\n",
        "total = 0\n",
        "for number in numbers:\n",
        "    total += number\n",
        "\n",
        "print(\"The sum of the numbers are: \", total)"
      ]
    },
    {
      "cell_type": "code",
      "execution_count": null,
      "metadata": {
        "colab": {
          "base_uri": "https://localhost:8080/"
        },
        "id": "IPzI0zsiSXtL",
        "outputId": "8870f864-ca49-43dc-9f53-563cf5c91cb3"
      },
      "outputs": [
        {
          "data": {
            "text/plain": [
              "{'Aslam': 23, 'Asia': 35, 'Ali': 19}"
            ]
          },
          "execution_count": 22,
          "metadata": {},
          "output_type": "execute_result"
        }
      ],
      "source": [
        "Dictionary={\"Aslam\":23,\"Asia\":35,\"Ali\":19}\n",
        "Dictionary"
      ]
    },
    {
      "cell_type": "code",
      "execution_count": null,
      "metadata": {
        "colab": {
          "base_uri": "https://localhost:8080/"
        },
        "id": "HnRZJEc_Sarp",
        "outputId": "8372fc10-b2ef-4ecb-ec47-d0948ef87b21"
      },
      "outputs": [
        {
          "data": {
            "text/plain": [
              "{'Aslam': 24, 'Asia': 35, 'Ali': 19}"
            ]
          },
          "execution_count": 23,
          "metadata": {},
          "output_type": "execute_result"
        }
      ],
      "source": [
        "Dictionary.update({\"Aslam\":24})\n",
        "Dictionary"
      ]
    },
    {
      "cell_type": "code",
      "execution_count": null,
      "metadata": {
        "colab": {
          "base_uri": "https://localhost:8080/"
        },
        "id": "5z1ycK83XF0D",
        "outputId": "4259475c-8105-4368-e605-8b9d2226f3d8"
      },
      "outputs": [
        {
          "name": "stdout",
          "output_type": "stream",
          "text": [
            "[2, 4, 6, 8, 10, 12, 14, 16, 18, 20]\n"
          ]
        }
      ],
      "source": [
        "#####Intermediate\n",
        "##### LIst Comprehension\n",
        "Num=[1,2,3,4,5,6,7,8,9,10,11,12,13,14,15,16,17,18,19,20]\n",
        "NewNum=[]\n",
        "for i in  Num:\n",
        "  if i%2==0:\n",
        "   NewNum.append(i)\n",
        "print(NewNum)\n",
        "\n",
        "\n"
      ]
    },
    {
      "cell_type": "code",
      "execution_count": null,
      "metadata": {
        "colab": {
          "base_uri": "https://localhost:8080/"
        },
        "id": "5Nz6QoABbI3R",
        "outputId": "1db3190c-945b-4fe5-e5b6-1cc63e5713b1"
      },
      "outputs": [
        {
          "name": "stdout",
          "output_type": "stream",
          "text": [
            "2\n"
          ]
        }
      ],
      "source": [
        "#### Counting  vowels\n",
        "String=\"Yamac\"\n",
        "Vowels=\"aeiouAEIOU\"\n",
        "count=0\n",
        "for i in String:\n",
        "  if i in  Vowels:\n",
        "     count=count+1\n",
        "print(count)\n",
        "\n"
      ]
    },
    {
      "cell_type": "code",
      "execution_count": null,
      "metadata": {
        "id": "uts4TP4IfL5E"
      },
      "outputs": [],
      "source": [
        "String=\"Yamac\"\n",
        "Vowels=\"aeiouAEIOU\"\n",
        "count=0\n",
        "for i in  String:\n",
        "  if i == Vowels:\n",
        "     count=count+1\n",
        "print(count)"
      ]
    },
    {
      "cell_type": "code",
      "execution_count": null,
      "metadata": {
        "colab": {
          "base_uri": "https://localhost:8080/"
        },
        "id": "4fjNLCami7VD",
        "outputId": "4e387bad-c8bd-4c1b-d86d-875a33d60d9d"
      },
      "outputs": [
        {
          "name": "stdout",
          "output_type": "stream",
          "text": [
            "2\n",
            "2\n",
            "2\n"
          ]
        }
      ],
      "source": [
        "\n",
        "countRed=0\n",
        "countGreen=0\n",
        "countBlue=0\n",
        "Dict={\"Colors\":['red','green','blue','blue','green','red']}\n",
        "for i in Dict[\"Colors\"]:\n",
        "  if i=='red':\n",
        "    countRed+=1\n",
        "  elif i=='green':\n",
        "    countGreen+=1\n",
        "  elif i=='blue':\n",
        "    countBlue+=1\n",
        "print(countRed)\n",
        "print(countGreen)\n",
        "print(countBlue)\n",
        "\n"
      ]
    },
    {
      "cell_type": "code",
      "execution_count": null,
      "metadata": {
        "colab": {
          "base_uri": "https://localhost:8080/"
        },
        "id": "T9ztE200s1ZQ",
        "outputId": "7bcfa752-24dd-495a-bc2d-7b7228efed2d"
      },
      "outputs": [
        {
          "name": "stdout",
          "output_type": "stream",
          "text": [
            "[1, 2, 3]\n",
            "[4, 5, 6]\n",
            "[7, 8, 9]\n"
          ]
        }
      ],
      "source": [
        "matrics=[\n",
        "        [1,2,3],\n",
        "        [4,5,6],\n",
        "        [7,8,9]\n",
        "        ]\n",
        "def matricss():\n",
        "  for i in matrics:\n",
        "    print(i)\n",
        "matricss()\n"
      ]
    },
    {
      "cell_type": "code",
      "execution_count": null,
      "metadata": {
        "colab": {
          "base_uri": "https://localhost:8080/"
        },
        "id": "eZmpWTcNAKih",
        "outputId": "90f1bfde-49b5-4c42-e38d-1e214ec2d532"
      },
      "outputs": [
        {
          "name": "stdout",
          "output_type": "stream",
          "text": [
            "Enter the number of seats19\n",
            "Enter the number of seats25\n",
            "Enter the number of seats55\n",
            "$ 380\n",
            "$ 275\n",
            "$ 1210\n"
          ]
        }
      ],
      "source": [
        "######Stadium Revenue\n",
        "ClassA=20\n",
        "ClassB=11\n",
        "ClassC=22\n",
        "def income_generator():\n",
        "  global ClassA,ClassB,ClassC\n",
        "  no_of_seatsA=int(input(\"Enter the number of seats\"))\n",
        "  no_of_seatsB=int(input(\"Enter the number of seats\"))\n",
        "  no_of_seatsC=int(input(\"Enter the number of seats\"))\n",
        "  ReveueneA=no_of_seatsA*ClassA\n",
        "  print('$',ReveueneA)\n",
        "  ReveueneB=no_of_seatsB*ClassB\n",
        "  print('$',ReveueneB)\n",
        "  ReveueneC=no_of_seatsC*ClassC\n",
        "  print('$',ReveueneC)\n",
        "income_generator()"
      ]
    },
    {
      "cell_type": "code",
      "execution_count": null,
      "metadata": {
        "colab": {
          "base_uri": "https://localhost:8080/"
        },
        "id": "Pmg2dXj2WWPI",
        "outputId": "3155dac3-5dc1-4fe6-e237-3765821f1739"
      },
      "outputs": [
        {
          "data": {
            "text/plain": [
              "96"
            ]
          },
          "execution_count": 5,
          "metadata": {},
          "output_type": "execute_result"
        }
      ],
      "source": [
        "def feet_to_inches(feet=8):\n",
        "    # One foot equals 12 inches\n",
        "    inches = feet * 12\n",
        "    return inches\n",
        "feet_to_inches(8)"
      ]
    },
    {
      "cell_type": "code",
      "execution_count": null,
      "metadata": {
        "colab": {
          "base_uri": "https://localhost:8080/"
        },
        "id": "z4zOGW01Y1FM",
        "outputId": "e51ab50c-f435-40f5-f65d-28c2f3ba0465"
      },
      "outputs": [
        {
          "name": "stdout",
          "output_type": "stream",
          "text": [
            "Enter the answer252\n",
            "Incorrect Display Correct one\n"
          ]
        }
      ],
      "source": [
        "###3#MAths quiz\n",
        "def Maths_quiz():\n",
        "  Number1=247\n",
        "  Number2=6\n",
        "  Result=Number1+Number2\n",
        "  Students_answer=int(input(\"Enter the answer\"))\n",
        "  if Result==Students_answer:\n",
        "    print(\"Correct Congragulations\")\n",
        "  else:\n",
        "    print(\"Incorrect Display Correct one\")\n",
        "Maths_quiz()"
      ]
    },
    {
      "cell_type": "code",
      "execution_count": null,
      "metadata": {
        "colab": {
          "base_uri": "https://localhost:8080/"
        },
        "id": "Wl4WfwtCaj0b",
        "outputId": "5793d9c9-b7ee-4c50-abdb-aeb4face3e44"
      },
      "outputs": [
        {
          "name": "stdout",
          "output_type": "stream",
          "text": [
            "12\n"
          ]
        }
      ],
      "source": [
        "def max(a=7 ,b=12):\n",
        "  if a>b:\n",
        "    print(a)\n",
        "  else:\n",
        "    print(b)\n",
        "max(a=7 ,b=12)"
      ]
    },
    {
      "cell_type": "code",
      "execution_count": null,
      "metadata": {
        "id": "AhrS8EPaooVO"
      },
      "outputs": [],
      "source": [
        "import random"
      ]
    },
    {
      "cell_type": "code",
      "execution_count": null,
      "metadata": {
        "colab": {
          "base_uri": "https://localhost:8080/"
        },
        "id": "ua-bM8dUos9d",
        "outputId": "e2f4a16e-cd73-4001-9dd7-28691bd7c920"
      },
      "outputs": [
        {
          "name": "stdout",
          "output_type": "stream",
          "text": [
            "55\n"
          ]
        }
      ],
      "source": [
        "import random\n",
        "count=0\n",
        "def even_counter():\n",
        "  global count\n",
        "  for i in range(1,101):\n",
        "    Num=random.randint(1,100)\n",
        "    if Num%2==0:\n",
        "      count=count+1\n",
        "  print(count)\n",
        "even_counter()"
      ]
    },
    {
      "cell_type": "markdown",
      "metadata": {
        "id": "7EURewqNtVF1"
      },
      "source": [
        "\n",
        "def prime_number():\n",
        "  \n",
        "\n",
        "```python\n",
        "def prime_number():\n",
        "  for i in range(1,100):\n",
        "    i=2\n",
        "    number=int(input(\"Enter a number\"))\n",
        "    while i*i<number:\n",
        "      if number%i==0:\n",
        "        print(\"Not a prime number\")\n",
        "        return False\n",
        "      i+=1\n",
        "    print(\"Prime number\")\n",
        "    return True\n",
        "prime_number()\n",
        "```\n",
        "        return False\n",
        "        print(\"Not a prime number\")\n",
        "    \n",
        "\n",
        "      \n",
        "        return True\n",
        "        print(\"Prime number\")\n",
        "        i+=1\n",
        "        number=int(input(\"Enter a number\"))\n",
        "prime_number()"
      ]
    },
    {
      "cell_type": "code",
      "execution_count": null,
      "metadata": {
        "colab": {
          "base_uri": "https://localhost:8080/",
          "height": 106
        },
        "id": "o-OPBN0h3FBX",
        "outputId": "4b742e20-0fad-4f67-8fb0-cf10e814bc1c"
      },
      "outputs": [
        {
          "ename": "IndentationError",
          "evalue": "unexpected indent (<ipython-input-5-524ba2386c09>, line 10)",
          "output_type": "error",
          "traceback": [
            "\u001b[0;36m  File \u001b[0;32m\"<ipython-input-5-524ba2386c09>\"\u001b[0;36m, line \u001b[0;32m10\u001b[0m\n\u001b[0;31m    print(\"Prime number\")\u001b[0m\n\u001b[0m    ^\u001b[0m\n\u001b[0;31mIndentationError\u001b[0m\u001b[0;31m:\u001b[0m unexpected indent\n"
          ]
        }
      ],
      "source": [
        "def prime_number():\n",
        "  for i in range(1,100):\n",
        "    i=2\n",
        "    number=int(input(\"Enter a number\"))\n",
        "    while i*i<number:\n",
        "      if number%i==0:\n",
        "        print(\"Not a prime number\")\n",
        "        return False\n",
        "      i+=1\n",
        "        print(\"Prime number\")\n",
        "        return True\n",
        "prime_number()"
      ]
    },
    {
      "cell_type": "code",
      "execution_count": null,
      "metadata": {
        "colab": {
          "base_uri": "https://localhost:8080/"
        },
        "id": "eJJOCfoc31GW",
        "outputId": "9904639a-4b0d-43fe-b7d7-a7a3a275ff89"
      },
      "outputs": [
        {
          "name": "stdout",
          "output_type": "stream",
          "text": [
            "Enter a number: 15\n",
            "Not a prime number\n"
          ]
        },
        {
          "data": {
            "text/plain": [
              "False"
            ]
          },
          "execution_count": 7,
          "metadata": {},
          "output_type": "execute_result"
        }
      ],
      "source": [
        "def prime_number():\n",
        "  for i in range(1, 100):  # You might want to reconsider this loop\n",
        "    i = 2  # Resetting i in every iteration (might be redundant)\n",
        "    number = int(input(\"Enter a number: \"))\n",
        "    while i * i < number:\n",
        "      if number % i == 0:\n",
        "        print(\"Not a prime number\")\n",
        "        return False  # Exit if not prime\n",
        "      i += 1\n",
        "    print(\"Prime number\")  # Moved outside the while loop\n",
        "    return True  # Moved outside the while loop\n",
        "\n",
        "prime_number()"
      ]
    },
    {
      "cell_type": "code",
      "execution_count": null,
      "metadata": {
        "id": "UNBPNGJON855"
      },
      "outputs": [],
      "source": [
        "def prime_number():\n",
        "  for i in range(1, 100):\n",
        "    i = 2  # Resetting i in every iteration (might be redundant)\n",
        "    number = int(input(\"Enter a number: \"))\n",
        "    is_prime = True  # Assume number is prime initially\n",
        "    while i * i < number:\n",
        "      if number % i == 0:\n",
        "        print(number, \"is not a prime number\")\n",
        "        is_prime = False  # Mark as not prime if divisible\n",
        "        break  # Exit the while loop, but continue the for loop\n",
        "      i += 1\n",
        "    if is_prime:\n",
        "      print(number, \"is a prime number\")\n",
        "  # No return statement here, so the loop will continue\n",
        "\n",
        "prime_number()"
      ]
    },
    {
      "cell_type": "code",
      "execution_count": null,
      "metadata": {
        "colab": {
          "base_uri": "https://localhost:8080/"
        },
        "id": "-EmxbCu-NQI2",
        "outputId": "f1a8df2d-f588-499a-f6b4-47ad7764dcf0"
      },
      "outputs": [
        {
          "name": "stdout",
          "output_type": "stream",
          "text": [
            "The total weekly sales are $ 1070000\n"
          ]
        }
      ],
      "source": [
        "weeklysales=[5000,6000,9000,10000,150000,890000]\n",
        "total=0\n",
        "for i in weeklysales:\n",
        "  total+=i\n",
        "print(\"The total weekly sales are $\",total)\n"
      ]
    },
    {
      "cell_type": "code",
      "execution_count": null,
      "metadata": {
        "colab": {
          "base_uri": "https://localhost:8080/"
        },
        "id": "gWzHkNSPP1e7",
        "outputId": "860f6033-2ffa-4cf5-d013-006773e7aecc"
      },
      "outputs": [
        {
          "name": "stdout",
          "output_type": "stream",
          "text": [
            "[3, 6, 4, 5, 9, 6, 3]\n"
          ]
        }
      ],
      "source": [
        "####lottery number\n",
        "import random\n",
        "lottery_number=[]\n",
        "for i in range (1,8):\n",
        "  randoma=random.randint(0,9)\n",
        "  lottery_number.append(randoma)\n",
        "print(lottery_number)"
      ]
    },
    {
      "cell_type": "code",
      "execution_count": null,
      "metadata": {
        "colab": {
          "base_uri": "https://localhost:8080/"
        },
        "id": "4oPzmrdmSjvh",
        "outputId": "9e563015-10e1-4b34-86a2-f32f34027e46"
      },
      "outputs": [
        {
          "name": "stdout",
          "output_type": "stream",
          "text": [
            "77 Milimeter\n",
            "311 Milimeter\n",
            "25.916666666666668 Milimeter\n",
            "4 Milimeter\n"
          ]
        }
      ],
      "source": [
        "Monthly_ranifall=[20,13,4,5,65,6,6,77,8,8,45,54]\n",
        "Total_ranifall=0\n",
        "for i in Monthly_ranifall:\n",
        "  Total_ranifall+=i\n",
        "  Average_ranifall=Total_ranifall/12\n",
        "print(max(Monthly_ranifall),\"Milimeter\")\n",
        "print(Total_ranifall,\"Milimeter\")\n",
        "print(Average_ranifall,\"Milimeter\")\n",
        "print(min(Monthly_ranifall),\"Milimeter\")\n",
        "\n"
      ]
    },
    {
      "cell_type": "code",
      "execution_count": null,
      "metadata": {
        "colab": {
          "base_uri": "https://localhost:8080/"
        },
        "id": "PLnpY_9VUAyO",
        "outputId": "c02a2b4a-4cfc-434f-f293-6b509ad404fa"
      },
      "outputs": [
        {
          "name": "stdout",
          "output_type": "stream",
          "text": [
            "Not greater\n",
            "12\n",
            "Not greater\n",
            "Not greater\n",
            "56\n"
          ]
        }
      ],
      "source": [
        "def function(list=[9,12,3,4,56],n=11):\n",
        "  for i in list:\n",
        "    if i>n:\n",
        "      print(i)\n",
        "    else:\n",
        "      print(\"Not greater\")\n",
        "function()"
      ]
    },
    {
      "cell_type": "code",
      "execution_count": null,
      "metadata": {
        "id": "eVbiWbnY2n3i"
      },
      "outputs": [],
      "source": [
        "####### Rock paper scissor game\n",
        "import random\n",
        "choice=[\"rock\",\"paper\",\"scissor\"]\n",
        "computer=random.choice(choice)\n",
        "user_choice=input(\"Enter your choice\")\n",
        "Choice=int(input(\"Enter your choice\"))\n",
        "def rock_paper_scissor():\n",
        " global Choice,user_choice\n",
        " print(\"Welcome to the game Rock, Paper, Scissors!\")\n",
        " while Choice<4:\n",
        "  print(\"\\nMenu:\")\n",
        "  print(\"1. Play Game\")\n",
        "  print(\"2. How to Play\")\n",
        "  print(\"3. View Rules\")\n",
        "  print(\"4. Exit\")\n",
        "  if user_choice==computer:\n",
        "        print(\"Its a tie\")\n",
        "  elif  user_choice==\"rock\" and computer==\"paper\":\n",
        "        print(\"Computer wins\")\n",
        "  elif user_choice==\"rock\" and computer==\"scissor\":\n",
        "        print(\"User wins\")\n",
        "  else:\n",
        "        print(\"Invalid choice.\")\n",
        "  Choice=int(input(\"Enter your choice\"))\n",
        "rock_paper_scissor()\n"
      ]
    },
    {
      "cell_type": "code",
      "execution_count": null,
      "metadata": {
        "colab": {
          "background_save": true,
          "base_uri": "https://localhost:8080/"
        },
        "id": "mqR6HNKd375X",
        "outputId": "a85f7667-8d73-4506-b528-caa7ae4735a5"
      },
      "outputs": [
        {
          "name": "stdout",
          "output_type": "stream",
          "text": [
            "Welcome to the game Rock, Paper, Scissors!\n",
            "\n",
            "Menu:\n",
            "1. Play Game\n",
            "2. How to Play\n",
            "3. View Rules\n",
            "4. Exit\n"
          ]
        }
      ],
      "source": [
        "####### Rock paper scissor game\n",
        "import random\n",
        "choice=[\"rock\",\"paper\",\"scissor\"]\n",
        "computer=random.choice(choice)\n",
        "user_choice=input(\"Enter your choice\")\n",
        "Choice=0\n",
        "def rock_paper_scissor():\n",
        " global Choice,user_choice,computer\n",
        " print(\"Welcome to the game Rock, Paper, Scissors!\")\n",
        " while Choice<3:\n",
        "  print(\"\\nMenu:\")\n",
        "  print(\"1. Play Game\")\n",
        "  print(\"2. How to Play\")\n",
        "  print(\"3. View Rules\")\n",
        "  print(\"4. Exit\")\n",
        " if user_choice==computer:\n",
        "  print(\"Its is a tie\")\n",
        " elif user_choice==\"Rock\" and computer==\"Scissor\":\n",
        "  print(\"Rock wins\")\n",
        " elif user_choice==\"Scissor\" and computer==\"Paper\":\n",
        "  print(\"You win dude against the computer\")\n",
        " elif user_choice==\"Paper\" and computer==\"Scissor\":\n",
        "  print(\"Paper Wins\")\n",
        " else:\n",
        "  print(\"You lost against the AI computer\")\n",
        "  Choice=int(input(\"Enter your choice\"))\n",
        "rock_paper_scissor()"
      ]
    }
  ],
  "metadata": {
    "colab": {
      "provenance": []
    },
    "kernelspec": {
      "display_name": "Python 3",
      "name": "python3"
    },
    "language_info": {
      "name": "python"
    }
  },
  "nbformat": 4,
  "nbformat_minor": 0
}